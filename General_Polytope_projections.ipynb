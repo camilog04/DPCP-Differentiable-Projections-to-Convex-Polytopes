{
 "cells": [
  {
   "cell_type": "markdown",
   "id": "f7f30ac3",
   "metadata": {},
   "source": [
    "# Differentiable projections to polytopes\n",
    "\n",
    "In this notebook we explor projections of a vector into the exterior of a polytope. The polytope can be defined as $$"
   ]
  },
  {
   "cell_type": "code",
   "execution_count": 1,
   "id": "c20502a8",
   "metadata": {},
   "outputs": [],
   "source": [
    "import torchsort\n",
    "import torch\n",
    "\n",
    "import numpy as np \n",
    "import pandas as pd"
   ]
  },
  {
   "cell_type": "markdown",
   "id": "90b33d6f",
   "metadata": {},
   "source": [
    "# Projection to Permutahedron\n",
    "\n",
    "$$\n",
    "u = (n, n-1, \\dots, 1, 0) \\in \\mathbb{R}^{n+1}, \\qquad \n",
    "\\mathrm{Perm}(u) := \\operatorname{conv}\\{\\;\\sigma(u) : \\sigma \\in S_{n+1}\\;\\}.\n",
    "$$\n",
    "\n",
    "**soft rank https://arxiv.org/abs/2002.08871"
   ]
  },
  {
   "cell_type": "markdown",
   "id": "e5058b61",
   "metadata": {},
   "source": [
    "### Hard projection"
   ]
  },
  {
   "cell_type": "code",
   "execution_count": 16,
   "id": "7ab8af78",
   "metadata": {},
   "outputs": [
    {
     "data": {
      "text/plain": [
       "tensor([[ 8.,  1.,  5.,  4.,  3.,  2.,  6.,  7.,  9., 10.]])"
      ]
     },
     "execution_count": 16,
     "metadata": {},
     "output_type": "execute_result"
    }
   ],
   "source": [
    "x = torch.tensor([[8, -1, 5, 3, 2, 1, 6, 7, 9, 100]]) \n",
    "\n",
    "torchsort.soft_rank(x)"
   ]
  },
  {
   "cell_type": "markdown",
   "id": "12f7e98f",
   "metadata": {},
   "source": [
    "### soft projection"
   ]
  },
  {
   "cell_type": "code",
   "execution_count": 18,
   "id": "70001856",
   "metadata": {},
   "outputs": [
    {
     "data": {
      "text/plain": [
       "tensor([[ 6.7778,  2.2778,  5.2778,  4.2778,  3.7778,  3.2778,  5.7778,  6.2778,\n",
       "          7.2778, 10.0000]])"
      ]
     },
     "execution_count": 18,
     "metadata": {},
     "output_type": "execute_result"
    }
   ],
   "source": [
    "x = torch.tensor([[8, -1, 5, 3, 2, 1, 6, 7, 9, 100]]) \n",
    "\n",
    "torchsort.soft_rank(x, regularization_strength=2)"
   ]
  },
  {
   "cell_type": "markdown",
   "id": "5928b22a",
   "metadata": {},
   "source": [
    "# Projection to hypercube"
   ]
  },
  {
   "cell_type": "code",
   "execution_count": 23,
   "id": "df4119da",
   "metadata": {},
   "outputs": [
    {
     "name": "stdout",
     "output_type": "stream",
     "text": [
      "tensor([1., 1., 1., 0., 0., 0., 0., 0., 0., 0.])\n"
     ]
    }
   ],
   "source": [
    "def proportion_of_ones(tensor):\n",
    "    return torch.sum(tensor == 1).item() / torch.numel(tensor)\n",
    "\n",
    "def get_hypercube_tensor(n,p):\n",
    "    # Ensure p is between 0 and 1\n",
    "    assert 0 <= p <= 1, \"p must be between 0 and 1\"\n",
    "    # Calculate the number of 1's\n",
    "    num_ones = int(n * p)\n",
    "    # Create a tensor with n zeros\n",
    "    tensor = torch.zeros(n)\n",
    "    # Set the first num_ones elements to 1\n",
    "    tensor[:num_ones] = 1\n",
    "    return tensor\n",
    "\n",
    "# say we wanto to \n",
    "\n",
    "x = torch.tensor([[8, -1, 5, 3, 2, 1, 6, 7, 9, 100]]) \n",
    "y = torch.tensor([[1, 0, 0, 0, 0, 0, 0, 0, 1, 1]]) \n",
    "\n",
    "n, p = x.shape[1], proportion_of_ones(y)\n",
    "hypercube_basis = get_hypercube_tensor(n,p)\n",
    "print(hypercube_basis)\n"
   ]
  },
  {
   "cell_type": "markdown",
   "id": "b48189dd",
   "metadata": {},
   "source": [
    "# hard projection"
   ]
  },
  {
   "cell_type": "code",
   "execution_count": 25,
   "id": "8a413a8f",
   "metadata": {},
   "outputs": [
    {
     "data": {
      "text/plain": [
       "tensor([[1., 0., 0., 0., 0., 0., 0., 0., 1., 1.]])"
      ]
     },
     "execution_count": 25,
     "metadata": {},
     "output_type": "execute_result"
    }
   ],
   "source": [
    "torchsort.conv_proj.apply(x, hypercube_basis)"
   ]
  },
  {
   "cell_type": "markdown",
   "id": "1bdd457a",
   "metadata": {},
   "source": [
    "## Soft projection"
   ]
  },
  {
   "cell_type": "code",
   "execution_count": 37,
   "id": "348613f9",
   "metadata": {},
   "outputs": [
    {
     "data": {
      "text/plain": [
       "tensor([[0.6667, 0.0000, 0.0000, 0.0000, 0.0000, 0.0000, 0.0000, 0.3333, 1.0000,\n",
       "         1.0000]])"
      ]
     },
     "execution_count": 37,
     "metadata": {},
     "output_type": "execute_result"
    }
   ],
   "source": [
    "x = torch.tensor([[8, -1, 5, 3, 2, 1, 6, 7, 9, 100]]) \n",
    "\n",
    "torchsort.conv_proj.apply(x, hypercube_basis, 'l2', 3)"
   ]
  },
  {
   "cell_type": "markdown",
   "id": "4712d75e",
   "metadata": {},
   "source": []
  }
 ],
 "metadata": {
  "kernelspec": {
   "display_name": "thesis",
   "language": "python",
   "name": "python3"
  },
  "language_info": {
   "codemirror_mode": {
    "name": "ipython",
    "version": 3
   },
   "file_extension": ".py",
   "mimetype": "text/x-python",
   "name": "python",
   "nbconvert_exporter": "python",
   "pygments_lexer": "ipython3",
   "version": "3.10.12"
  }
 },
 "nbformat": 4,
 "nbformat_minor": 5
}
